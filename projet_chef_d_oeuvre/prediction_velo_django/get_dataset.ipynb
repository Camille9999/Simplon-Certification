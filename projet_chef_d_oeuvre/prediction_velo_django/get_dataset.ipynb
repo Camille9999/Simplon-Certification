{
 "cells": [
  {
   "cell_type": "code",
   "execution_count": 1,
   "metadata": {},
   "outputs": [],
   "source": [
    "import geopandas as gpd\n"
   ]
  },
  {
   "cell_type": "code",
   "execution_count": 29,
   "metadata": {},
   "outputs": [],
   "source": [
    "# Cleaning GeoDataFrame densité\n",
    "def clean_density(gdf : gpd.GeoDataFrame) -> gpd.GeoDataFrame:\n",
    "    print(\" * Cleaning...\", end='')\n",
    "    gdf_density = gdf[['code_iris', 'nom_com', 'nom_iris', 'geometry']].copy()\n",
    "    gdf_density['density'] = gdf['density'].apply(round)\n",
    "    gdf_density = gdf_density.to_crs(2154)\n",
    "    print(\" Terminé\")\n",
    "    return gdf_density\n",
    "\n",
    "# Cleaning GeoDataFrame vcub\n",
    "def clean_vcub(gdf : gpd.GeoDataFrame) -> gpd.GeoDataFrame:\n",
    "    print(\" * Cleaning...\", end='')\n",
    "    gdf_vcub = gdf[['gid', 'nom', 'geometry']].copy()\n",
    "    gdf_vcub = gdf_vcub.rename(columns={'gid' : 'id'})\n",
    "    gdf_vcub['taille'] = gdf['nbvelos'].apply(int) + gdf['nbplaces'].apply(int)\n",
    "    gdf_vcub = gdf_vcub.to_crs(2154)\n",
    "    gdf_vcub = gdf_vcub.drop(columns='id')\n",
    "    print(\" Terminé\")\n",
    "    return gdf_vcub\n",
    "\n",
    "# Cleaning GeoDataFrame eqpub\n",
    "def clean_eqpub(gdf : gpd.GeoDataFrame) -> gpd.GeoDataFrame:\n",
    "    print(\" * Cleaning...\", end='')\n",
    "    gdf_eqpub = gdf[['ident', 'nom', 'sstheme', 'geometry']]\n",
    "    gdf_eqpub = gdf_eqpub.rename(columns={'ident' : 'id'}).copy()\n",
    "    gdf_eqpub = gdf_eqpub.to_crs(2154)\n",
    "    gdf_eqpub = gdf_eqpub.drop(columns='id')\n",
    "    print(\" Terminé\")\n",
    "    return gdf_eqpub\n"
   ]
  },
  {
   "cell_type": "code",
   "execution_count": 30,
   "metadata": {},
   "outputs": [
    {
     "name": "stdout",
     "output_type": "stream",
     "text": [
      " * Cleaning... Terminé\n"
     ]
    },
    {
     "data": {
      "text/html": [
       "<div>\n",
       "<style scoped>\n",
       "    .dataframe tbody tr th:only-of-type {\n",
       "        vertical-align: middle;\n",
       "    }\n",
       "\n",
       "    .dataframe tbody tr th {\n",
       "        vertical-align: top;\n",
       "    }\n",
       "\n",
       "    .dataframe thead th {\n",
       "        text-align: right;\n",
       "    }\n",
       "</style>\n",
       "<table border=\"1\" class=\"dataframe\">\n",
       "  <thead>\n",
       "    <tr style=\"text-align: right;\">\n",
       "      <th></th>\n",
       "      <th>nom</th>\n",
       "      <th>geometry</th>\n",
       "      <th>taille</th>\n",
       "    </tr>\n",
       "  </thead>\n",
       "  <tbody>\n",
       "    <tr>\n",
       "      <th>0</th>\n",
       "      <td>Meriadeck</td>\n",
       "      <td>POINT (416834.546 6421857.393)</td>\n",
       "      <td>32</td>\n",
       "    </tr>\n",
       "    <tr>\n",
       "      <th>1</th>\n",
       "      <td>St Bruno</td>\n",
       "      <td>POINT (416367.018 6421857.522)</td>\n",
       "      <td>20</td>\n",
       "    </tr>\n",
       "    <tr>\n",
       "      <th>2</th>\n",
       "      <td>Piscine Judaique</td>\n",
       "      <td>POINT (416148.913 6422198.004)</td>\n",
       "      <td>26</td>\n",
       "    </tr>\n",
       "    <tr>\n",
       "      <th>3</th>\n",
       "      <td>St Seurin</td>\n",
       "      <td>POINT (416820.091 6422322.802)</td>\n",
       "      <td>20</td>\n",
       "    </tr>\n",
       "    <tr>\n",
       "      <th>4</th>\n",
       "      <td>Place Gambetta</td>\n",
       "      <td>POINT (417104.310 6422143.342)</td>\n",
       "      <td>40</td>\n",
       "    </tr>\n",
       "  </tbody>\n",
       "</table>\n",
       "</div>"
      ],
      "text/plain": [
       "                nom                        geometry  taille\n",
       "0         Meriadeck  POINT (416834.546 6421857.393)      32\n",
       "1          St Bruno  POINT (416367.018 6421857.522)      20\n",
       "2  Piscine Judaique  POINT (416148.913 6422198.004)      26\n",
       "3         St Seurin  POINT (416820.091 6422322.802)      20\n",
       "4    Place Gambetta  POINT (417104.310 6422143.342)      40"
      ]
     },
     "execution_count": 30,
     "metadata": {},
     "output_type": "execute_result"
    }
   ],
   "source": [
    "gdf_vcub = gpd.read_file('/root/code/Camille9999/Simplon/projet_chef_d_oeuvre/prediction_velo_django/prediction_velo-modele_gen/src/data/vcub')\n",
    "gdf_vcub = clean_vcub(gdf_vcub)\n",
    "gdf_vcub.head()\n"
   ]
  },
  {
   "cell_type": "code",
   "execution_count": 31,
   "metadata": {},
   "outputs": [
    {
     "name": "stdout",
     "output_type": "stream",
     "text": [
      " * Cleaning... Terminé\n"
     ]
    },
    {
     "data": {
      "text/html": [
       "<div>\n",
       "<style scoped>\n",
       "    .dataframe tbody tr th:only-of-type {\n",
       "        vertical-align: middle;\n",
       "    }\n",
       "\n",
       "    .dataframe tbody tr th {\n",
       "        vertical-align: top;\n",
       "    }\n",
       "\n",
       "    .dataframe thead th {\n",
       "        text-align: right;\n",
       "    }\n",
       "</style>\n",
       "<table border=\"1\" class=\"dataframe\">\n",
       "  <thead>\n",
       "    <tr style=\"text-align: right;\">\n",
       "      <th></th>\n",
       "      <th>nom</th>\n",
       "      <th>sstheme</th>\n",
       "      <th>geometry</th>\n",
       "    </tr>\n",
       "  </thead>\n",
       "  <tbody>\n",
       "    <tr>\n",
       "      <th>0</th>\n",
       "      <td>Parc du Château</td>\n",
       "      <td>H3</td>\n",
       "      <td>POINT (411357.958 6421978.895)</td>\n",
       "    </tr>\n",
       "    <tr>\n",
       "      <th>1</th>\n",
       "      <td>Maison municipale de Sardine</td>\n",
       "      <td>O3</td>\n",
       "      <td>POINT (412719.337 6417806.588)</td>\n",
       "    </tr>\n",
       "    <tr>\n",
       "      <th>2</th>\n",
       "      <td>Maison municipale du Monteil</td>\n",
       "      <td>O3</td>\n",
       "      <td>POINT (411759.958 6417884.726)</td>\n",
       "    </tr>\n",
       "    <tr>\n",
       "      <th>3</th>\n",
       "      <td>Salle municipale de l'Orangerie</td>\n",
       "      <td>O5</td>\n",
       "      <td>POINT (410007.649 6417750.745)</td>\n",
       "    </tr>\n",
       "    <tr>\n",
       "      <th>4</th>\n",
       "      <td>Maison municipale de Chiquet</td>\n",
       "      <td>O3</td>\n",
       "      <td>POINT (413598.118 6418226.655)</td>\n",
       "    </tr>\n",
       "  </tbody>\n",
       "</table>\n",
       "</div>"
      ],
      "text/plain": [
       "                               nom sstheme                        geometry\n",
       "0                  Parc du Château      H3  POINT (411357.958 6421978.895)\n",
       "1     Maison municipale de Sardine      O3  POINT (412719.337 6417806.588)\n",
       "2     Maison municipale du Monteil      O3  POINT (411759.958 6417884.726)\n",
       "3  Salle municipale de l'Orangerie      O5  POINT (410007.649 6417750.745)\n",
       "4     Maison municipale de Chiquet      O3  POINT (413598.118 6418226.655)"
      ]
     },
     "execution_count": 31,
     "metadata": {},
     "output_type": "execute_result"
    }
   ],
   "source": [
    "gdf_eqpub = gpd.read_file('/root/code/Camille9999/Simplon/projet_chef_d_oeuvre/prediction_velo_django/prediction_velo-modele_gen/src/data/eqpub', encoding='utf-8')\n",
    "gdf_eqpub = clean_eqpub(gdf_eqpub)\n",
    "gdf_eqpub.head()\n"
   ]
  },
  {
   "cell_type": "code",
   "execution_count": 32,
   "metadata": {},
   "outputs": [
    {
     "name": "stdout",
     "output_type": "stream",
     "text": [
      " * Cleaning... Terminé\n"
     ]
    },
    {
     "data": {
      "text/html": [
       "<div>\n",
       "<style scoped>\n",
       "    .dataframe tbody tr th:only-of-type {\n",
       "        vertical-align: middle;\n",
       "    }\n",
       "\n",
       "    .dataframe tbody tr th {\n",
       "        vertical-align: top;\n",
       "    }\n",
       "\n",
       "    .dataframe thead th {\n",
       "        text-align: right;\n",
       "    }\n",
       "</style>\n",
       "<table border=\"1\" class=\"dataframe\">\n",
       "  <thead>\n",
       "    <tr style=\"text-align: right;\">\n",
       "      <th></th>\n",
       "      <th>code_iris</th>\n",
       "      <th>nom_com</th>\n",
       "      <th>nom_iris</th>\n",
       "      <th>geometry</th>\n",
       "      <th>density</th>\n",
       "    </tr>\n",
       "  </thead>\n",
       "  <tbody>\n",
       "    <tr>\n",
       "      <th>0</th>\n",
       "      <td>330630101</td>\n",
       "      <td>Bordeaux</td>\n",
       "      <td>Le Lac 1</td>\n",
       "      <td>POLYGON ((417511.100 6429718.100, 417524.500 6...</td>\n",
       "      <td>282</td>\n",
       "    </tr>\n",
       "    <tr>\n",
       "      <th>1</th>\n",
       "      <td>331920101</td>\n",
       "      <td>Gradignan</td>\n",
       "      <td>Zone d'Activités Bersol</td>\n",
       "      <td>POLYGON ((411560.600 6415232.700, 411569.700 6...</td>\n",
       "      <td>31</td>\n",
       "    </tr>\n",
       "    <tr>\n",
       "      <th>2</th>\n",
       "      <td>330320104</td>\n",
       "      <td>Bassens</td>\n",
       "      <td>Ouest-Zones d'Activités-Quais</td>\n",
       "      <td>POLYGON ((419964.400 6431249.800, 420228.600 6...</td>\n",
       "      <td>34</td>\n",
       "    </tr>\n",
       "    <tr>\n",
       "      <th>3</th>\n",
       "      <td>330560106</td>\n",
       "      <td>Blanquefort</td>\n",
       "      <td>Zone Industrielle</td>\n",
       "      <td>POLYGON ((413787.900 6430970.100, 413788.800 6...</td>\n",
       "      <td>128</td>\n",
       "    </tr>\n",
       "    <tr>\n",
       "      <th>4</th>\n",
       "      <td>332490110</td>\n",
       "      <td>Lormont</td>\n",
       "      <td>Z.I. Quatre Pavillons-La Gardette</td>\n",
       "      <td>POLYGON ((421819.900 6424484.200, 421825.100 6...</td>\n",
       "      <td>2141</td>\n",
       "    </tr>\n",
       "  </tbody>\n",
       "</table>\n",
       "</div>"
      ],
      "text/plain": [
       "   code_iris      nom_com                           nom_iris  \\\n",
       "0  330630101     Bordeaux                           Le Lac 1   \n",
       "1  331920101    Gradignan            Zone d'Activités Bersol   \n",
       "2  330320104      Bassens      Ouest-Zones d'Activités-Quais   \n",
       "3  330560106  Blanquefort                  Zone Industrielle   \n",
       "4  332490110      Lormont  Z.I. Quatre Pavillons-La Gardette   \n",
       "\n",
       "                                            geometry  density  \n",
       "0  POLYGON ((417511.100 6429718.100, 417524.500 6...      282  \n",
       "1  POLYGON ((411560.600 6415232.700, 411569.700 6...       31  \n",
       "2  POLYGON ((419964.400 6431249.800, 420228.600 6...       34  \n",
       "3  POLYGON ((413787.900 6430970.100, 413788.800 6...      128  \n",
       "4  POLYGON ((421819.900 6424484.200, 421825.100 6...     2141  "
      ]
     },
     "execution_count": 32,
     "metadata": {},
     "output_type": "execute_result"
    }
   ],
   "source": [
    "gdf_density = gpd.read_file('/root/code/Camille9999/Simplon/projet_chef_d_oeuvre/prediction_velo_django/prediction_velo-modele_gen/src/data/density')\n",
    "gdf_density = clean_density(gdf_density)\n",
    "gdf_density.head()\n"
   ]
  },
  {
   "cell_type": "code",
   "execution_count": 33,
   "metadata": {},
   "outputs": [],
   "source": [
    "gdf_vcub.to_file('/root/code/Camille9999/Simplon/projet_chef_d_oeuvre/prediction_velo_django/media/base/vcub/vcub.shp', driver='ESRI Shapefile')\n",
    "gdf_eqpub.to_file('/root/code/Camille9999/Simplon/projet_chef_d_oeuvre/prediction_velo_django/media/base/eqpub/eqpub.shp', driver='ESRI Shapefile')\n",
    "gdf_density.to_file('/root/code/Camille9999/Simplon/projet_chef_d_oeuvre/prediction_velo_django/media/base/density/density.shp', driver='ESRI Shapefile')\n"
   ]
  },
  {
   "cell_type": "code",
   "execution_count": 34,
   "metadata": {},
   "outputs": [
    {
     "data": {
      "text/html": [
       "<div>\n",
       "<style scoped>\n",
       "    .dataframe tbody tr th:only-of-type {\n",
       "        vertical-align: middle;\n",
       "    }\n",
       "\n",
       "    .dataframe tbody tr th {\n",
       "        vertical-align: top;\n",
       "    }\n",
       "\n",
       "    .dataframe thead th {\n",
       "        text-align: right;\n",
       "    }\n",
       "</style>\n",
       "<table border=\"1\" class=\"dataframe\">\n",
       "  <thead>\n",
       "    <tr style=\"text-align: right;\">\n",
       "      <th></th>\n",
       "      <th>nom</th>\n",
       "      <th>sstheme</th>\n",
       "      <th>geometry</th>\n",
       "    </tr>\n",
       "  </thead>\n",
       "  <tbody>\n",
       "    <tr>\n",
       "      <th>0</th>\n",
       "      <td>Parc du Château</td>\n",
       "      <td>H3</td>\n",
       "      <td>POINT (411357.958 6421978.895)</td>\n",
       "    </tr>\n",
       "    <tr>\n",
       "      <th>1</th>\n",
       "      <td>Maison municipale de Sardine</td>\n",
       "      <td>O3</td>\n",
       "      <td>POINT (412719.337 6417806.588)</td>\n",
       "    </tr>\n",
       "    <tr>\n",
       "      <th>2</th>\n",
       "      <td>Maison municipale du Monteil</td>\n",
       "      <td>O3</td>\n",
       "      <td>POINT (411759.958 6417884.726)</td>\n",
       "    </tr>\n",
       "    <tr>\n",
       "      <th>3</th>\n",
       "      <td>Salle municipale de l'Orangerie</td>\n",
       "      <td>O5</td>\n",
       "      <td>POINT (410007.649 6417750.745)</td>\n",
       "    </tr>\n",
       "    <tr>\n",
       "      <th>4</th>\n",
       "      <td>Maison municipale de Chiquet</td>\n",
       "      <td>O3</td>\n",
       "      <td>POINT (413598.118 6418226.655)</td>\n",
       "    </tr>\n",
       "  </tbody>\n",
       "</table>\n",
       "</div>"
      ],
      "text/plain": [
       "                               nom sstheme                        geometry\n",
       "0                  Parc du Château      H3  POINT (411357.958 6421978.895)\n",
       "1     Maison municipale de Sardine      O3  POINT (412719.337 6417806.588)\n",
       "2     Maison municipale du Monteil      O3  POINT (411759.958 6417884.726)\n",
       "3  Salle municipale de l'Orangerie      O5  POINT (410007.649 6417750.745)\n",
       "4     Maison municipale de Chiquet      O3  POINT (413598.118 6418226.655)"
      ]
     },
     "execution_count": 34,
     "metadata": {},
     "output_type": "execute_result"
    }
   ],
   "source": [
    "gdf_density_new = gpd.read_file('/root/code/Camille9999/Simplon/projet_chef_d_oeuvre/prediction_velo_django/media/base/eqpub/eqpub.shp')\n",
    "gdf_density_new.head()\n"
   ]
  }
 ],
 "metadata": {
  "kernelspec": {
   "display_name": "onepoint",
   "language": "python",
   "name": "python3"
  },
  "language_info": {
   "codemirror_mode": {
    "name": "ipython",
    "version": 3
   },
   "file_extension": ".py",
   "mimetype": "text/x-python",
   "name": "python",
   "nbconvert_exporter": "python",
   "pygments_lexer": "ipython3",
   "version": "3.10.12"
  }
 },
 "nbformat": 4,
 "nbformat_minor": 2
}
